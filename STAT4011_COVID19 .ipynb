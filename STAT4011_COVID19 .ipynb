{
 "cells": [
  {
   "cell_type": "code",
   "execution_count": 604,
   "metadata": {},
   "outputs": [
    {
     "data": {
      "text/html": [
       "<div>\n",
       "<style scoped>\n",
       "    .dataframe tbody tr th:only-of-type {\n",
       "        vertical-align: middle;\n",
       "    }\n",
       "\n",
       "    .dataframe tbody tr th {\n",
       "        vertical-align: top;\n",
       "    }\n",
       "\n",
       "    .dataframe thead th {\n",
       "        text-align: right;\n",
       "    }\n",
       "</style>\n",
       "<table border=\"1\" class=\"dataframe\">\n",
       "  <thead>\n",
       "    <tr style=\"text-align: right;\">\n",
       "      <th></th>\n",
       "      <th>Case no.</th>\n",
       "      <th>Report date</th>\n",
       "      <th>Date of onset</th>\n",
       "      <th>Gender</th>\n",
       "      <th>Age</th>\n",
       "      <th>Name of hospital admitted</th>\n",
       "      <th>Hospitalised/Discharged/Deceased</th>\n",
       "      <th>HK/Non-HK resident</th>\n",
       "      <th>Case classification*</th>\n",
       "      <th>Confirmed/probable</th>\n",
       "    </tr>\n",
       "  </thead>\n",
       "  <tbody>\n",
       "    <tr>\n",
       "      <th>0</th>\n",
       "      <td>1</td>\n",
       "      <td>23/01/2020</td>\n",
       "      <td>21/01/2020</td>\n",
       "      <td>M</td>\n",
       "      <td>39</td>\n",
       "      <td>NaN</td>\n",
       "      <td>Discharged</td>\n",
       "      <td>Non-HK resident</td>\n",
       "      <td>Imported case</td>\n",
       "      <td>Confirmed</td>\n",
       "    </tr>\n",
       "    <tr>\n",
       "      <th>1</th>\n",
       "      <td>2</td>\n",
       "      <td>23/01/2020</td>\n",
       "      <td>18/01/2020</td>\n",
       "      <td>M</td>\n",
       "      <td>56</td>\n",
       "      <td>NaN</td>\n",
       "      <td>Discharged</td>\n",
       "      <td>HK resident</td>\n",
       "      <td>Imported case</td>\n",
       "      <td>Confirmed</td>\n",
       "    </tr>\n",
       "    <tr>\n",
       "      <th>2</th>\n",
       "      <td>3</td>\n",
       "      <td>24/01/2020</td>\n",
       "      <td>20/01/2020</td>\n",
       "      <td>F</td>\n",
       "      <td>62</td>\n",
       "      <td>NaN</td>\n",
       "      <td>Discharged</td>\n",
       "      <td>Non-HK resident</td>\n",
       "      <td>Imported case</td>\n",
       "      <td>Confirmed</td>\n",
       "    </tr>\n",
       "    <tr>\n",
       "      <th>3</th>\n",
       "      <td>4</td>\n",
       "      <td>24/01/2020</td>\n",
       "      <td>23/01/2020</td>\n",
       "      <td>F</td>\n",
       "      <td>62</td>\n",
       "      <td>NaN</td>\n",
       "      <td>Discharged</td>\n",
       "      <td>Non-HK resident</td>\n",
       "      <td>Imported case</td>\n",
       "      <td>Confirmed</td>\n",
       "    </tr>\n",
       "    <tr>\n",
       "      <th>4</th>\n",
       "      <td>5</td>\n",
       "      <td>24/01/2020</td>\n",
       "      <td>23/01/2020</td>\n",
       "      <td>M</td>\n",
       "      <td>63</td>\n",
       "      <td>NaN</td>\n",
       "      <td>Discharged</td>\n",
       "      <td>Non-HK resident</td>\n",
       "      <td>Imported case</td>\n",
       "      <td>Confirmed</td>\n",
       "    </tr>\n",
       "  </tbody>\n",
       "</table>\n",
       "</div>"
      ],
      "text/plain": [
       "   Case no. Report date Date of onset Gender  Age  Name of hospital admitted  \\\n",
       "0         1  23/01/2020    21/01/2020      M   39                        NaN   \n",
       "1         2  23/01/2020    18/01/2020      M   56                        NaN   \n",
       "2         3  24/01/2020    20/01/2020      F   62                        NaN   \n",
       "3         4  24/01/2020    23/01/2020      F   62                        NaN   \n",
       "4         5  24/01/2020    23/01/2020      M   63                        NaN   \n",
       "\n",
       "  Hospitalised/Discharged/Deceased HK/Non-HK resident Case classification*  \\\n",
       "0                       Discharged    Non-HK resident        Imported case   \n",
       "1                       Discharged        HK resident        Imported case   \n",
       "2                       Discharged    Non-HK resident        Imported case   \n",
       "3                       Discharged    Non-HK resident        Imported case   \n",
       "4                       Discharged    Non-HK resident        Imported case   \n",
       "\n",
       "  Confirmed/probable  \n",
       "0          Confirmed  \n",
       "1          Confirmed  \n",
       "2          Confirmed  \n",
       "3          Confirmed  \n",
       "4          Confirmed  "
      ]
     },
     "execution_count": 604,
     "metadata": {},
     "output_type": "execute_result"
    }
   ],
   "source": [
    "import pandas as pd\n",
    "import matplotlib.pyplot as plt\n",
    "import seaborn as sns\n",
    "from datetime import datetime\n",
    "#imoprt the data\n",
    "df = pd.read_csv(r'C:\\Users\\user\\Downloads\\enhanced_sur_covid_19_eng.csv')\n",
    "#show the data by first 5 rows to ensure the dataset is correct\n",
    "df.head()"
   ]
  },
  {
   "cell_type": "markdown",
   "metadata": {},
   "source": [
    "## General information of the data"
   ]
  },
  {
   "cell_type": "code",
   "execution_count": 605,
   "metadata": {},
   "outputs": [
    {
     "name": "stdout",
     "output_type": "stream",
     "text": [
      "<class 'pandas.core.frame.DataFrame'>\n",
      "RangeIndex: 5242 entries, 0 to 5241\n",
      "Data columns (total 10 columns):\n",
      " #   Column                            Non-Null Count  Dtype  \n",
      "---  ------                            --------------  -----  \n",
      " 0   Case no.                          5242 non-null   int64  \n",
      " 1   Report date                       5242 non-null   object \n",
      " 2   Date of onset                     5242 non-null   object \n",
      " 3   Gender                            5242 non-null   object \n",
      " 4   Age                               5242 non-null   int64  \n",
      " 5   Name of hospital admitted         0 non-null      float64\n",
      " 6   Hospitalised/Discharged/Deceased  5242 non-null   object \n",
      " 7   HK/Non-HK resident                5242 non-null   object \n",
      " 8   Case classification*              5242 non-null   object \n",
      " 9   Confirmed/probable                5242 non-null   object \n",
      "dtypes: float64(1), int64(2), object(7)\n",
      "memory usage: 409.7+ KB\n"
     ]
    }
   ],
   "source": [
    "df.info()"
   ]
  },
  {
   "cell_type": "code",
   "execution_count": 606,
   "metadata": {},
   "outputs": [
    {
     "data": {
      "text/plain": [
       "(5242, 10)"
      ]
     },
     "execution_count": 606,
     "metadata": {},
     "output_type": "execute_result"
    }
   ],
   "source": [
    "df.shape\n",
    "#showing the data frame has how many rows and columns, represent the format by (rows, columns)."
   ]
  },
  {
   "cell_type": "markdown",
   "metadata": {},
   "source": [
    "From the above table, we can know that there are 5242 index(rows) and 10 attributes(columns)\n",
    "However, there are some columns may not be useful for the modeling.\n",
    "Therefore, we need to drop out the irrelevant columns.\n",
    "Also, we can see that there are no null value in each columns except the 'Name of hospital admitted' column."
   ]
  },
  {
   "cell_type": "markdown",
   "metadata": {},
   "source": [
    "## Data Cleaning"
   ]
  },
  {
   "cell_type": "markdown",
   "metadata": {},
   "source": [
    "### Drop the irrelevant columns"
   ]
  },
  {
   "cell_type": "code",
   "execution_count": 607,
   "metadata": {},
   "outputs": [],
   "source": [
    "df.drop(['Case no.','Name of hospital admitted'], axis = 1, inplace = True)"
   ]
  },
  {
   "cell_type": "markdown",
   "metadata": {},
   "source": [
    "Before we go into the data cleaning stage,\n",
    "\n",
    "we have to change some of the columns name\n",
    "\n",
    "because it can be easier to access the columns when doing the data cleaning."
   ]
  },
  {
   "cell_type": "code",
   "execution_count": 608,
   "metadata": {},
   "outputs": [
    {
     "data": {
      "text/html": [
       "<div>\n",
       "<style scoped>\n",
       "    .dataframe tbody tr th:only-of-type {\n",
       "        vertical-align: middle;\n",
       "    }\n",
       "\n",
       "    .dataframe tbody tr th {\n",
       "        vertical-align: top;\n",
       "    }\n",
       "\n",
       "    .dataframe thead th {\n",
       "        text-align: right;\n",
       "    }\n",
       "</style>\n",
       "<table border=\"1\" class=\"dataframe\">\n",
       "  <thead>\n",
       "    <tr style=\"text-align: right;\">\n",
       "      <th></th>\n",
       "      <th>Report_date</th>\n",
       "      <th>Date_of_onset</th>\n",
       "      <th>Gender</th>\n",
       "      <th>Age</th>\n",
       "      <th>Hospitalised/Discharged/Deceased</th>\n",
       "      <th>HKer_or_not</th>\n",
       "      <th>Case_classification</th>\n",
       "      <th>Confirmed/probable</th>\n",
       "    </tr>\n",
       "  </thead>\n",
       "  <tbody>\n",
       "    <tr>\n",
       "      <th>0</th>\n",
       "      <td>23/01/2020</td>\n",
       "      <td>21/01/2020</td>\n",
       "      <td>M</td>\n",
       "      <td>39</td>\n",
       "      <td>Discharged</td>\n",
       "      <td>Non-HK resident</td>\n",
       "      <td>Imported case</td>\n",
       "      <td>Confirmed</td>\n",
       "    </tr>\n",
       "    <tr>\n",
       "      <th>1</th>\n",
       "      <td>23/01/2020</td>\n",
       "      <td>18/01/2020</td>\n",
       "      <td>M</td>\n",
       "      <td>56</td>\n",
       "      <td>Discharged</td>\n",
       "      <td>HK resident</td>\n",
       "      <td>Imported case</td>\n",
       "      <td>Confirmed</td>\n",
       "    </tr>\n",
       "    <tr>\n",
       "      <th>2</th>\n",
       "      <td>24/01/2020</td>\n",
       "      <td>20/01/2020</td>\n",
       "      <td>F</td>\n",
       "      <td>62</td>\n",
       "      <td>Discharged</td>\n",
       "      <td>Non-HK resident</td>\n",
       "      <td>Imported case</td>\n",
       "      <td>Confirmed</td>\n",
       "    </tr>\n",
       "    <tr>\n",
       "      <th>3</th>\n",
       "      <td>24/01/2020</td>\n",
       "      <td>23/01/2020</td>\n",
       "      <td>F</td>\n",
       "      <td>62</td>\n",
       "      <td>Discharged</td>\n",
       "      <td>Non-HK resident</td>\n",
       "      <td>Imported case</td>\n",
       "      <td>Confirmed</td>\n",
       "    </tr>\n",
       "    <tr>\n",
       "      <th>4</th>\n",
       "      <td>24/01/2020</td>\n",
       "      <td>23/01/2020</td>\n",
       "      <td>M</td>\n",
       "      <td>63</td>\n",
       "      <td>Discharged</td>\n",
       "      <td>Non-HK resident</td>\n",
       "      <td>Imported case</td>\n",
       "      <td>Confirmed</td>\n",
       "    </tr>\n",
       "  </tbody>\n",
       "</table>\n",
       "</div>"
      ],
      "text/plain": [
       "  Report_date Date_of_onset Gender  Age Hospitalised/Discharged/Deceased  \\\n",
       "0  23/01/2020    21/01/2020      M   39                       Discharged   \n",
       "1  23/01/2020    18/01/2020      M   56                       Discharged   \n",
       "2  24/01/2020    20/01/2020      F   62                       Discharged   \n",
       "3  24/01/2020    23/01/2020      F   62                       Discharged   \n",
       "4  24/01/2020    23/01/2020      M   63                       Discharged   \n",
       "\n",
       "       HKer_or_not Case_classification Confirmed/probable  \n",
       "0  Non-HK resident       Imported case          Confirmed  \n",
       "1      HK resident       Imported case          Confirmed  \n",
       "2  Non-HK resident       Imported case          Confirmed  \n",
       "3  Non-HK resident       Imported case          Confirmed  \n",
       "4  Non-HK resident       Imported case          Confirmed  "
      ]
     },
     "execution_count": 608,
     "metadata": {},
     "output_type": "execute_result"
    }
   ],
   "source": [
    "df.rename(columns={'HK/Non-HK resident':'HKer_or_not',\n",
    "                   'Report date':'Report_date',\n",
    "                  'Date of onset':'Date_of_onset',\n",
    "                  'Case classification*':'Case_classification'},inplace = True)\n",
    "#the pandas rename function can change the column/index name\n",
    "#for changing the index name, just replace the \"columns\" to \"index\"\n",
    "df.head()"
   ]
  },
  {
   "cell_type": "code",
   "execution_count": 609,
   "metadata": {},
   "outputs": [
    {
     "data": {
      "text/html": [
       "<div>\n",
       "<style scoped>\n",
       "    .dataframe tbody tr th:only-of-type {\n",
       "        vertical-align: middle;\n",
       "    }\n",
       "\n",
       "    .dataframe tbody tr th {\n",
       "        vertical-align: top;\n",
       "    }\n",
       "\n",
       "    .dataframe thead th {\n",
       "        text-align: right;\n",
       "    }\n",
       "</style>\n",
       "<table border=\"1\" class=\"dataframe\">\n",
       "  <thead>\n",
       "    <tr style=\"text-align: right;\">\n",
       "      <th></th>\n",
       "      <th>Number of Null</th>\n",
       "      <th>Percentage of Null</th>\n",
       "    </tr>\n",
       "    <tr>\n",
       "      <th>Features</th>\n",
       "      <th></th>\n",
       "      <th></th>\n",
       "    </tr>\n",
       "  </thead>\n",
       "  <tbody>\n",
       "    <tr>\n",
       "      <th>Confirmed/probable</th>\n",
       "      <td>0</td>\n",
       "      <td>0.0</td>\n",
       "    </tr>\n",
       "    <tr>\n",
       "      <th>Case_classification</th>\n",
       "      <td>0</td>\n",
       "      <td>0.0</td>\n",
       "    </tr>\n",
       "    <tr>\n",
       "      <th>HKer_or_not</th>\n",
       "      <td>0</td>\n",
       "      <td>0.0</td>\n",
       "    </tr>\n",
       "    <tr>\n",
       "      <th>Hospitalised/Discharged/Deceased</th>\n",
       "      <td>0</td>\n",
       "      <td>0.0</td>\n",
       "    </tr>\n",
       "    <tr>\n",
       "      <th>Age</th>\n",
       "      <td>0</td>\n",
       "      <td>0.0</td>\n",
       "    </tr>\n",
       "    <tr>\n",
       "      <th>Gender</th>\n",
       "      <td>0</td>\n",
       "      <td>0.0</td>\n",
       "    </tr>\n",
       "    <tr>\n",
       "      <th>Date_of_onset</th>\n",
       "      <td>0</td>\n",
       "      <td>0.0</td>\n",
       "    </tr>\n",
       "    <tr>\n",
       "      <th>Report_date</th>\n",
       "      <td>0</td>\n",
       "      <td>0.0</td>\n",
       "    </tr>\n",
       "  </tbody>\n",
       "</table>\n",
       "</div>"
      ],
      "text/plain": [
       "                                  Number of Null  Percentage of Null\n",
       "Features                                                            \n",
       "Confirmed/probable                             0                 0.0\n",
       "Case_classification                            0                 0.0\n",
       "HKer_or_not                                    0                 0.0\n",
       "Hospitalised/Discharged/Deceased               0                 0.0\n",
       "Age                                            0                 0.0\n",
       "Gender                                         0                 0.0\n",
       "Date_of_onset                                  0                 0.0\n",
       "Report_date                                    0                 0.0"
      ]
     },
     "execution_count": 609,
     "metadata": {},
     "output_type": "execute_result"
    }
   ],
   "source": [
    "# Checking there is no null value in each columns\n",
    "Features = df.columns\n",
    "num_of_null_by_cols = df.isnull().sum().sort_values(ascending=False)\n",
    "percentage_of_null_by_cols = (df.isnull().sum() / len(df)).sort_values(ascending=False)\n",
    "null_df = pd.DataFrame({'Number of Null': num_of_null_by_cols,\n",
    "                                'Percentage of Null':percentage_of_null_by_cols})\n",
    "null_df.index.name = 'Features'\n",
    "null_df"
   ]
  },
  {
   "cell_type": "markdown",
   "metadata": {},
   "source": [
    "### Drop the Unknown/Meaningless index"
   ]
  },
  {
   "cell_type": "code",
   "execution_count": 610,
   "metadata": {},
   "outputs": [
    {
     "data": {
      "text/plain": [
       "array(['Confirmed', 'Probable'], dtype=object)"
      ]
     },
     "execution_count": 610,
     "metadata": {},
     "output_type": "execute_result"
    }
   ],
   "source": [
    "#Cleaning the irrelevant(probable) index from 'Confirmed/probable'\n",
    "df['Confirmed/probable'].unique()"
   ]
  },
  {
   "cell_type": "code",
   "execution_count": 611,
   "metadata": {},
   "outputs": [],
   "source": [
    "df.drop(df[df['Confirmed/probable'] == 'Probable'].index, axis=0,inplace=True)"
   ]
  },
  {
   "cell_type": "code",
   "execution_count": 612,
   "metadata": {},
   "outputs": [
    {
     "data": {
      "text/plain": [
       "array(['Imported case', 'Epidemiologically linked with imported case',\n",
       "       'Possibly local case', 'Local case',\n",
       "       'Epidemiologically linked with local case',\n",
       "       'Epidemiologically linked with possibly local case'], dtype=object)"
      ]
     },
     "execution_count": 612,
     "metadata": {},
     "output_type": "execute_result"
    }
   ],
   "source": [
    "#Cleaning the irrelevant(probable) index from 'Case_classification'\n",
    "df['Case_classification'].unique()"
   ]
  },
  {
   "cell_type": "code",
   "execution_count": 613,
   "metadata": {},
   "outputs": [],
   "source": [
    "df.drop(df[df['Case_classification'] == 'Possibly local case'].index, axis=0, inplace=True)\n",
    "df.drop(df[df['Case_classification'] == 'Epidemiologically linked with possibly local case'].index, axis=0, inplace=True)"
   ]
  },
  {
   "cell_type": "code",
   "execution_count": 614,
   "metadata": {},
   "outputs": [
    {
     "data": {
      "text/plain": [
       "array(['21/01/2020', '18/01/2020', '20/01/2020', '23/01/2020',\n",
       "       '25/01/2020', '28/01/2020', '29/01/2020', '01/02/2020',\n",
       "       '22/01/2020', '30/01/2020', '04/02/2020', '26/01/2020',\n",
       "       '03/02/2020', '02/02/2020', '07/02/2020', '08/02/2020',\n",
       "       '05/02/2020', '31/01/2020', '12/02/2020', '11/02/2020',\n",
       "       '10/02/2020', '18/02/2020', '20/02/2020', '24/02/2020',\n",
       "       'Asymptomatic', '17/02/2020', '16/02/2020', '15/02/2020',\n",
       "       '28/02/2020', '23/02/2020', '09/03/2020', '04/03/2020',\n",
       "       '07/03/2020', '06/03/2020', '08/03/2020', '10/03/2020',\n",
       "       '03/03/2020', '12/03/2020', '02/03/2020', '11/03/2020',\n",
       "       '13/03/2020', '15/03/2020', '05/03/2020', '16/03/2020',\n",
       "       '17/03/2020', '18/03/2020', '14/03/2020', '19/03/2020',\n",
       "       '20/03/2020', '21/03/2020', '22/03/2020', '23/03/2020',\n",
       "       '24/03/2020', '25/03/2020', '26/03/2020', 'January', '27/03/2020',\n",
       "       '28/03/2020', '29/03/2020', '30/03/2020', '31/03/2020',\n",
       "       '01/04/2020', '02/04/2020', '03/04/2020', '04/04/2020',\n",
       "       '05/04/2020', '06/04/2020', '07/04/2020', '08/04/2020',\n",
       "       '09/04/2020', '13/04/2020', '16/04/2020', '15/04/2020',\n",
       "       '11/04/2020', '08/05/2020', '11/05/2020', '12/05/2020',\n",
       "       '15/05/2020', '20/05/2020', '16/05/2020', '10/04/2020',\n",
       "       '22/05/2020', '26/05/2020', '27/04/2020', '25/04/2020',\n",
       "       '03/06/2020', '29/05/2020', '01/06/2020', '30/05/2020',\n",
       "       '04/06/2020', 'Mid-March', '06/06/2020', '31/05/2020',\n",
       "       '08/06/2020', '10/06/2020', '12/06/2020', '19/06/2020',\n",
       "       '20/06/2020', '21/06/2020', '18/06/2020', '05/05/2020',\n",
       "       '25/05/2020', '23/06/2020', '13/06/2020', '22/06/2020',\n",
       "       '17/06/2020', '24/06/2020', '27/06/2020', '25/06/2020',\n",
       "       '29/06/2020', '30/06/2020', '26/06/2020', '01/07/2020',\n",
       "       '02/07/2020', '04/07/2020', '03/07/2020', '06/07/2020',\n",
       "       '05/07/2020', '07/07/2020', '09/07/2020', '08/07/2020', 'Unknown',\n",
       "       '10/07/2020', '11/07/2020', '12/07/2020', '13/07/2020',\n",
       "       '14/07/2020', '15/07/2020', '16/07/2020', '17/07/2020', 'Pending',\n",
       "       '18/07/2020', '19/07/2020', '21/07/2020', '20/07/2020',\n",
       "       '22/07/2020', '23/07/2020', '24/07/2020', '26/07/2020',\n",
       "       '25/07/2020', '27/07/2020', '28/07/2020', '29/07/2020',\n",
       "       '30/07/2020', '31/07/2020', '01/08/2020', '02/08/2020',\n",
       "       '03/08/2020', '04/08/2020', '05/08/2020', '06/08/2020',\n",
       "       '07/08/2020', '08/08/2020', '09/08/2020', '10/08/2020',\n",
       "       '11/08/2020', '12/08/2020', 'Mid-July', '13/08/2020', '15/08/2020',\n",
       "       '14/08/2020', '16/08/2020', '17/08/2020', '18/08/2020',\n",
       "       '19/08/2020', '20/08/2020', '21/08/2020', '22/08/2020',\n",
       "       '23/08/2020', '24/08/2020', '25/08/2020', '27/08/2020',\n",
       "       '26/08/2020', '28/08/2020', '29/08/2020', '30/08/2020',\n",
       "       '01/09/2020', '02/09/2020', '03/09/2020', '31/08/2020',\n",
       "       '04/09/2020', '05/09/2020', '06/09/2020', '08/09/2020',\n",
       "       '09/09/2020', '10/09/2020', '12/09/2020', '07/09/2020',\n",
       "       '11/09/2020', '14/09/2020', '15/09/2020', '13/09/2020',\n",
       "       '16/09/2020', '17/09/2020', '18/09/2020', '20/09/2020',\n",
       "       '19/09/2020', '21/09/2020', '22/09/2020', '26/09/2020',\n",
       "       '24/09/2020', '29/09/2020', '27/09/2020', '28/09/2020',\n",
       "       '25/09/2020', '30/09/2020', '01/10/2020', '03/10/2020',\n",
       "       '02/10/2020', '04/10/2020', '05/10/2020', '06/10/2020',\n",
       "       '07/10/2020', '08/10/2020', '09/10/2020', '10/10/2020',\n",
       "       '11/10/2020', '12/10/2020', '13/10/2020', '17/10/2020'],\n",
       "      dtype=object)"
      ]
     },
     "execution_count": 614,
     "metadata": {},
     "output_type": "execute_result"
    }
   ],
   "source": [
    "# Cleaning the unknown/irrelevant index from 'Date_of_onset'\n",
    "\n",
    "df['Date_of_onset'].unique()"
   ]
  },
  {
   "cell_type": "markdown",
   "metadata": {},
   "source": [
    "From the above result, we can see that the Date_of_onset column not only contains the date but also the string.\n",
    "Therefore, we need to drop out the index which contain the string."
   ]
  },
  {
   "cell_type": "code",
   "execution_count": 615,
   "metadata": {},
   "outputs": [],
   "source": [
    "#df[df['Date_of_onset'] == 'Unknown'].index == getting the index no.\n",
    "\n",
    "df.drop(df[df['Date_of_onset'] == 'Unknown'].index, axis=0, inplace=True)\n",
    "df.drop(df[df['Date_of_onset'] == 'Asymptomatic'].index, axis=0, inplace=True)\n",
    "df.drop(df[df['Date_of_onset'] == 'January'].index, axis=0, inplace=True)\n",
    "df.drop(df[df['Date_of_onset'] == 'Pending'].index, axis=0, inplace=True)\n",
    "df.drop(df[df['Date_of_onset'] == 'Mid-July'].index, axis=0, inplace=True)\n",
    "df.drop(df[df['Date_of_onset'] == 'Mid-March'].index, axis=0, inplace=True)"
   ]
  },
  {
   "cell_type": "code",
   "execution_count": 616,
   "metadata": {},
   "outputs": [
    {
     "data": {
      "text/plain": [
       "array(['Discharged', 'Deceased', 'Hospitalised', 'To be provided'],\n",
       "      dtype=object)"
      ]
     },
     "execution_count": 616,
     "metadata": {},
     "output_type": "execute_result"
    }
   ],
   "source": [
    "# Cleaning the unknown/irrelevant index from 'Hospitalised/Discharged/Deceased'\n",
    "\n",
    "df['Hospitalised/Discharged/Deceased'].unique()"
   ]
  },
  {
   "cell_type": "markdown",
   "metadata": {},
   "source": [
    "From the above, 'To be provided' and 'Hospitalised' may not useful for the modeling \n",
    "\n",
    "because in this project, we would like to predict the patient live or die only.\n",
    "\n",
    "Noted that for the futher analysis, the 'Hospitalised' may be useful for the predicting the recovery time but it required lots of personal information.\n",
    "\n"
   ]
  },
  {
   "cell_type": "code",
   "execution_count": 617,
   "metadata": {},
   "outputs": [],
   "source": [
    "df.drop(df[df['Hospitalised/Discharged/Deceased'] == 'Hospitalised'].index, axis=0, inplace=True)\n",
    "df.drop(df[df['Hospitalised/Discharged/Deceased'] == 'To be provided'].index, axis=0, inplace=True)"
   ]
  },
  {
   "cell_type": "code",
   "execution_count": 618,
   "metadata": {},
   "outputs": [
    {
     "data": {
      "text/plain": [
       "array(['Discharged', 'Deceased'], dtype=object)"
      ]
     },
     "execution_count": 618,
     "metadata": {},
     "output_type": "execute_result"
    }
   ],
   "source": [
    "df['Hospitalised/Discharged/Deceased'].unique()"
   ]
  },
  {
   "cell_type": "code",
   "execution_count": 619,
   "metadata": {},
   "outputs": [],
   "source": [
    "# Change the column name because there are no 'Hospitalised' anymore.\n",
    "df.rename(columns={'Hospitalised/Discharged/Deceased':'Result'}, inplace=True)"
   ]
  },
  {
   "cell_type": "code",
   "execution_count": 620,
   "metadata": {},
   "outputs": [
    {
     "data": {
      "text/plain": [
       "array(['Non-HK resident', 'HK resident', 'Non-HK Resident', 'HK Resident'],\n",
       "      dtype=object)"
      ]
     },
     "execution_count": 620,
     "metadata": {},
     "output_type": "execute_result"
    }
   ],
   "source": [
    "# Cleaning the unknown/irrelevant index from HKer_or_not\n",
    "df['HKer_or_not'].unique()"
   ]
  },
  {
   "cell_type": "markdown",
   "metadata": {},
   "source": [
    "Actually, it only contains 2 categories only. In this situation, we need to do a encoding function for the columns, making the columns more tidy.\n",
    "\n",
    "Also, we can do the one-hot-encode(0/1) featuring together."
   ]
  },
  {
   "cell_type": "code",
   "execution_count": 621,
   "metadata": {},
   "outputs": [],
   "source": [
    "def encoding_HKer(x):\n",
    "    if x == 'HK resident' or x == 'HK Resident':\n",
    "        return 1\n",
    "    if x == 'Non-HK resident' or x == 'Non-HK Resident' or x == 'non-HK resident':\n",
    "        return 0\n",
    "df['HKer_or_not'] = df.HKer_or_not.apply(encoding_HKer)"
   ]
  },
  {
   "cell_type": "code",
   "execution_count": 622,
   "metadata": {},
   "outputs": [
    {
     "data": {
      "text/plain": [
       "array([0, 1], dtype=int64)"
      ]
     },
     "execution_count": 622,
     "metadata": {},
     "output_type": "execute_result"
    }
   ],
   "source": [
    "df['HKer_or_not'].unique()"
   ]
  },
  {
   "cell_type": "code",
   "execution_count": 623,
   "metadata": {
    "scrolled": false
   },
   "outputs": [
    {
     "data": {
      "text/html": [
       "<div>\n",
       "<style scoped>\n",
       "    .dataframe tbody tr th:only-of-type {\n",
       "        vertical-align: middle;\n",
       "    }\n",
       "\n",
       "    .dataframe tbody tr th {\n",
       "        vertical-align: top;\n",
       "    }\n",
       "\n",
       "    .dataframe thead th {\n",
       "        text-align: right;\n",
       "    }\n",
       "</style>\n",
       "<table border=\"1\" class=\"dataframe\">\n",
       "  <thead>\n",
       "    <tr style=\"text-align: right;\">\n",
       "      <th></th>\n",
       "      <th>Report_date</th>\n",
       "      <th>Date_of_onset</th>\n",
       "      <th>Gender</th>\n",
       "      <th>Age</th>\n",
       "      <th>Result</th>\n",
       "      <th>HKer_or_not</th>\n",
       "      <th>Case_classification</th>\n",
       "      <th>Confirmed/probable</th>\n",
       "    </tr>\n",
       "  </thead>\n",
       "  <tbody>\n",
       "    <tr>\n",
       "      <th>0</th>\n",
       "      <td>23/01/2020</td>\n",
       "      <td>21/01/2020</td>\n",
       "      <td>M</td>\n",
       "      <td>39</td>\n",
       "      <td>Discharged</td>\n",
       "      <td>0</td>\n",
       "      <td>Imported case</td>\n",
       "      <td>Confirmed</td>\n",
       "    </tr>\n",
       "    <tr>\n",
       "      <th>1</th>\n",
       "      <td>23/01/2020</td>\n",
       "      <td>18/01/2020</td>\n",
       "      <td>M</td>\n",
       "      <td>56</td>\n",
       "      <td>Discharged</td>\n",
       "      <td>1</td>\n",
       "      <td>Imported case</td>\n",
       "      <td>Confirmed</td>\n",
       "    </tr>\n",
       "    <tr>\n",
       "      <th>2</th>\n",
       "      <td>24/01/2020</td>\n",
       "      <td>20/01/2020</td>\n",
       "      <td>F</td>\n",
       "      <td>62</td>\n",
       "      <td>Discharged</td>\n",
       "      <td>0</td>\n",
       "      <td>Imported case</td>\n",
       "      <td>Confirmed</td>\n",
       "    </tr>\n",
       "    <tr>\n",
       "      <th>3</th>\n",
       "      <td>24/01/2020</td>\n",
       "      <td>23/01/2020</td>\n",
       "      <td>F</td>\n",
       "      <td>62</td>\n",
       "      <td>Discharged</td>\n",
       "      <td>0</td>\n",
       "      <td>Imported case</td>\n",
       "      <td>Confirmed</td>\n",
       "    </tr>\n",
       "    <tr>\n",
       "      <th>4</th>\n",
       "      <td>24/01/2020</td>\n",
       "      <td>23/01/2020</td>\n",
       "      <td>M</td>\n",
       "      <td>63</td>\n",
       "      <td>Discharged</td>\n",
       "      <td>0</td>\n",
       "      <td>Imported case</td>\n",
       "      <td>Confirmed</td>\n",
       "    </tr>\n",
       "  </tbody>\n",
       "</table>\n",
       "</div>"
      ],
      "text/plain": [
       "  Report_date Date_of_onset Gender  Age      Result  HKer_or_not  \\\n",
       "0  23/01/2020    21/01/2020      M   39  Discharged            0   \n",
       "1  23/01/2020    18/01/2020      M   56  Discharged            1   \n",
       "2  24/01/2020    20/01/2020      F   62  Discharged            0   \n",
       "3  24/01/2020    23/01/2020      F   62  Discharged            0   \n",
       "4  24/01/2020    23/01/2020      M   63  Discharged            0   \n",
       "\n",
       "  Case_classification Confirmed/probable  \n",
       "0       Imported case          Confirmed  \n",
       "1       Imported case          Confirmed  \n",
       "2       Imported case          Confirmed  \n",
       "3       Imported case          Confirmed  \n",
       "4       Imported case          Confirmed  "
      ]
     },
     "execution_count": 623,
     "metadata": {},
     "output_type": "execute_result"
    }
   ],
   "source": [
    "df.head()"
   ]
  },
  {
   "cell_type": "markdown",
   "metadata": {},
   "source": [
    "## Feature Engineering"
   ]
  },
  {
   "cell_type": "markdown",
   "metadata": {},
   "source": [
    "In the feature engineering stage, we would like to add a column that the time difference between Date of onset and result."
   ]
  },
  {
   "cell_type": "code",
   "execution_count": 624,
   "metadata": {},
   "outputs": [],
   "source": [
    "# time_difference = report_date - Date_of_onset\n",
    "df['Date_of_onset'] = pd.to_datetime(df['Date_of_onset'])\n",
    "df['Report_date'] = pd.to_datetime(df['Report_date'])"
   ]
  },
  {
   "cell_type": "code",
   "execution_count": 625,
   "metadata": {
    "scrolled": true
   },
   "outputs": [],
   "source": [
    "df = df.reset_index(drop=True) #reset the index\n",
    "\n",
    "t_onset = []\n",
    "t_report = []\n",
    "Time_Delta = []\n",
    "for i in range(len(df)):\n",
    "    t_onset.append(df['Date_of_onset'][i])\n",
    "    t_report.append(df['Report_date'][i])\n",
    "    time_difference = t_report[i] - t_onset[i]\n",
    "    time_difference = time_difference.days\n",
    "    Time_Delta.append(time_difference)\n",
    "df['Time_Delta'] = Time_Delta\n",
    "\n",
    "df.drop(df[df['Time_Delta'] < 0].index, axis=0,inplace=True)"
   ]
  },
  {
   "cell_type": "code",
   "execution_count": 626,
   "metadata": {},
   "outputs": [
    {
     "data": {
      "text/plain": [
       "array(['Imported case', 'Epidemiologically linked with imported case',\n",
       "       'Local case', 'Epidemiologically linked with local case'],\n",
       "      dtype=object)"
      ]
     },
     "execution_count": 626,
     "metadata": {},
     "output_type": "execute_result"
    }
   ],
   "source": [
    "df['Case_classification'].unique()"
   ]
  },
  {
   "cell_type": "code",
   "execution_count": 627,
   "metadata": {},
   "outputs": [
    {
     "data": {
      "text/plain": [
       "array([0, 1], dtype=int64)"
      ]
     },
     "execution_count": 627,
     "metadata": {},
     "output_type": "execute_result"
    }
   ],
   "source": [
    "def encoding_case(x):\n",
    "    if x == 'Local case' or x == 'Epidemiologically linked with local case' :\n",
    "        return 1 \n",
    "    if x == 'Imported case' or x == 'Epidemiologically linked with imported case':\n",
    "        return 0\n",
    "df['Case_classification'] = df.Case_classification.apply(encoding_case)\n",
    "df['Case_classification'].unique()"
   ]
  },
  {
   "cell_type": "code",
   "execution_count": 628,
   "metadata": {},
   "outputs": [
    {
     "data": {
      "text/plain": [
       "array([1, 0], dtype=int64)"
      ]
     },
     "execution_count": 628,
     "metadata": {},
     "output_type": "execute_result"
    }
   ],
   "source": [
    "def encoding_result(x):\n",
    "    if x == 'Discharged':\n",
    "        return 1 #alive\n",
    "    if x == 'Deceased':\n",
    "        return 0 #death\n",
    "df['Result'] = df.Result.apply(encoding_result)\n",
    "df['Result'].unique()"
   ]
  },
  {
   "cell_type": "code",
   "execution_count": 629,
   "metadata": {},
   "outputs": [
    {
     "data": {
      "text/html": [
       "<div>\n",
       "<style scoped>\n",
       "    .dataframe tbody tr th:only-of-type {\n",
       "        vertical-align: middle;\n",
       "    }\n",
       "\n",
       "    .dataframe tbody tr th {\n",
       "        vertical-align: top;\n",
       "    }\n",
       "\n",
       "    .dataframe thead th {\n",
       "        text-align: right;\n",
       "    }\n",
       "</style>\n",
       "<table border=\"1\" class=\"dataframe\">\n",
       "  <thead>\n",
       "    <tr style=\"text-align: right;\">\n",
       "      <th></th>\n",
       "      <th>Report_date</th>\n",
       "      <th>Date_of_onset</th>\n",
       "      <th>Gender</th>\n",
       "      <th>Age</th>\n",
       "      <th>Result</th>\n",
       "      <th>HKer_or_not</th>\n",
       "      <th>Case_classification</th>\n",
       "      <th>Confirmed/probable</th>\n",
       "      <th>Time_Delta</th>\n",
       "    </tr>\n",
       "  </thead>\n",
       "  <tbody>\n",
       "    <tr>\n",
       "      <th>0</th>\n",
       "      <td>2020-01-23</td>\n",
       "      <td>2020-01-21</td>\n",
       "      <td>M</td>\n",
       "      <td>39</td>\n",
       "      <td>1</td>\n",
       "      <td>0</td>\n",
       "      <td>0</td>\n",
       "      <td>Confirmed</td>\n",
       "      <td>2</td>\n",
       "    </tr>\n",
       "    <tr>\n",
       "      <th>1</th>\n",
       "      <td>2020-01-23</td>\n",
       "      <td>2020-01-18</td>\n",
       "      <td>M</td>\n",
       "      <td>56</td>\n",
       "      <td>1</td>\n",
       "      <td>1</td>\n",
       "      <td>0</td>\n",
       "      <td>Confirmed</td>\n",
       "      <td>5</td>\n",
       "    </tr>\n",
       "    <tr>\n",
       "      <th>2</th>\n",
       "      <td>2020-01-24</td>\n",
       "      <td>2020-01-20</td>\n",
       "      <td>F</td>\n",
       "      <td>62</td>\n",
       "      <td>1</td>\n",
       "      <td>0</td>\n",
       "      <td>0</td>\n",
       "      <td>Confirmed</td>\n",
       "      <td>4</td>\n",
       "    </tr>\n",
       "    <tr>\n",
       "      <th>3</th>\n",
       "      <td>2020-01-24</td>\n",
       "      <td>2020-01-23</td>\n",
       "      <td>F</td>\n",
       "      <td>62</td>\n",
       "      <td>1</td>\n",
       "      <td>0</td>\n",
       "      <td>0</td>\n",
       "      <td>Confirmed</td>\n",
       "      <td>1</td>\n",
       "    </tr>\n",
       "    <tr>\n",
       "      <th>4</th>\n",
       "      <td>2020-01-24</td>\n",
       "      <td>2020-01-23</td>\n",
       "      <td>M</td>\n",
       "      <td>63</td>\n",
       "      <td>1</td>\n",
       "      <td>0</td>\n",
       "      <td>0</td>\n",
       "      <td>Confirmed</td>\n",
       "      <td>1</td>\n",
       "    </tr>\n",
       "  </tbody>\n",
       "</table>\n",
       "</div>"
      ],
      "text/plain": [
       "  Report_date Date_of_onset Gender  Age  Result  HKer_or_not  \\\n",
       "0  2020-01-23    2020-01-21      M   39       1            0   \n",
       "1  2020-01-23    2020-01-18      M   56       1            1   \n",
       "2  2020-01-24    2020-01-20      F   62       1            0   \n",
       "3  2020-01-24    2020-01-23      F   62       1            0   \n",
       "4  2020-01-24    2020-01-23      M   63       1            0   \n",
       "\n",
       "   Case_classification Confirmed/probable  Time_Delta  \n",
       "0                    0          Confirmed           2  \n",
       "1                    0          Confirmed           5  \n",
       "2                    0          Confirmed           4  \n",
       "3                    0          Confirmed           1  \n",
       "4                    0          Confirmed           1  "
      ]
     },
     "execution_count": 629,
     "metadata": {},
     "output_type": "execute_result"
    }
   ],
   "source": [
    "df.head()"
   ]
  },
  {
   "cell_type": "markdown",
   "metadata": {},
   "source": [
    "## Exploratory Data Analysis"
   ]
  },
  {
   "cell_type": "markdown",
   "metadata": {},
   "source": [
    "### Target Variable - Result"
   ]
  },
  {
   "cell_type": "code",
   "execution_count": 630,
   "metadata": {},
   "outputs": [
    {
     "data": {
      "text/plain": [
       "<matplotlib.axes._subplots.AxesSubplot at 0x20f4c5cdfc8>"
      ]
     },
     "execution_count": 630,
     "metadata": {},
     "output_type": "execute_result"
    },
    {
     "data": {
      "image/png": "[encoded data removed]",
      "text/plain": [
       "<Figure size 432x288 with 1 Axes>"
      ]
     },
     "metadata": {
      "needs_background": "light"
     },
     "output_type": "display_data"
    }
   ],
   "source": [
    "cnt_result = df['Result'].value_counts()\n",
    "cnt_result.plot(kind='bar')"
   ]
  },
  {
   "cell_type": "markdown",
   "metadata": {},
   "source": [
    "### Relationship between Gender and Result"
   ]
  },
  {
   "cell_type": "code",
   "execution_count": 631,
   "metadata": {},
   "outputs": [
    {
     "data": {
      "text/plain": [
       "Gender  Result\n",
       "F       1         1400\n",
       "        0           28\n",
       "M       1         1266\n",
       "        0           33\n",
       "Name: Result, dtype: int64"
      ]
     },
     "execution_count": 631,
     "metadata": {},
     "output_type": "execute_result"
    },
    {
     "data": {
      "image/png": "[encoded data removed]",
      "text/plain": [
       "<Figure size 432x288 with 1 Axes>"
      ]
     },
     "metadata": {
      "needs_background": "light"
     },
     "output_type": "display_data"
    }
   ],
   "source": [
    "ax = sns.countplot(y='Gender', hue='Result', data=df)\n",
    "ax.set(xlabel='Number of patient', ylabel=\"Gender,M/F\")\n",
    "df.groupby(['Gender'])['Result'].value_counts()"
   ]
  },
  {
   "cell_type": "markdown",
   "metadata": {},
   "source": [
    "### Relationship between HKer_or_not and Result"
   ]
  },
  {
   "cell_type": "code",
   "execution_count": 632,
   "metadata": {},
   "outputs": [
    {
     "data": {
      "text/plain": [
       "HKer_or_not  Result\n",
       "0            1           31\n",
       "1            1         2635\n",
       "             0           61\n",
       "Name: Result, dtype: int64"
      ]
     },
     "execution_count": 632,
     "metadata": {},
     "output_type": "execute_result"
    },
    {
     "data": {
      "image/png": "[encoded data removed]",
      "text/plain": [
       "<Figure size 432x288 with 1 Axes>"
      ]
     },
     "metadata": {
      "needs_background": "light"
     },
     "output_type": "display_data"
    }
   ],
   "source": [
    "ax = sns.countplot(y='HKer_or_not', hue='Result', data=df)\n",
    "ax.set(xlabel='Number of patient', ylabel=\"HKer_or_not\")\n",
    "df.groupby(['HKer_or_not'])['Result'].value_counts()\n",
    "#1 = HKER, 0 = non-HKER"
   ]
  },
  {
   "cell_type": "markdown",
   "metadata": {},
   "source": [
    "### Relationship between case_classification and Result"
   ]
  },
  {
   "cell_type": "code",
   "execution_count": 633,
   "metadata": {},
   "outputs": [
    {
     "data": {
      "text/plain": [
       "Case_classification  Result\n",
       "0                    1          494\n",
       "                     0            3\n",
       "1                    1         2172\n",
       "                     0           58\n",
       "Name: Result, dtype: int64"
      ]
     },
     "execution_count": 633,
     "metadata": {},
     "output_type": "execute_result"
    },
    {
     "data": {
      "image/png": "[encoded data removed]",
      "text/plain": [
       "<Figure size 432x288 with 1 Axes>"
      ]
     },
     "metadata": {
      "needs_background": "light"
     },
     "output_type": "display_data"
    }
   ],
   "source": [
    "ax = sns.countplot(y='Case_classification', hue='Result', data=df)\n",
    "ax.set(xlabel='Number of patient', ylabel=\"Case_classification\")\n",
    "df.groupby(['Case_classification'])['Result'].value_counts()\n",
    "#1 = local case\n",
    "#0 = import case "
   ]
  },
  {
   "cell_type": "markdown",
   "metadata": {},
   "source": [
    "### Relationship between Age and Result"
   ]
  },
  {
   "cell_type": "code",
   "execution_count": 634,
   "metadata": {},
   "outputs": [
    {
     "data": {
      "text/plain": [
       "[Text(0, 0.5, 'Age'), Text(0.5, 0, 'Result')]"
      ]
     },
     "execution_count": 634,
     "metadata": {},
     "output_type": "execute_result"
    },
    {
     "data": {
      "image/png": "[encoded data removed]",
      "text/plain": [
       "<Figure size 432x288 with 1 Axes>"
      ]
     },
     "metadata": {
      "needs_background": "light"
     },
     "output_type": "display_data"
    }
   ],
   "source": [
    "ax = sns.boxplot(x='Result', y='Age', data=df)\n",
    "ax.set(xlabel='Result', ylabel='Age')"
   ]
  },
  {
   "cell_type": "markdown",
   "metadata": {},
   "source": [
    "### Relationship between Time_Delta and Result"
   ]
  },
  {
   "cell_type": "code",
   "execution_count": 635,
   "metadata": {
    "scrolled": true
   },
   "outputs": [
    {
     "data": {
      "text/plain": [
       "[Text(0, 0.5, 'Time_Delta'), Text(0.5, 0, 'Result')]"
      ]
     },
     "execution_count": 635,
     "metadata": {},
     "output_type": "execute_result"
    },
    {
     "data": {
      "image/png": "[encoded data removed]",
      "text/plain": [
       "<Figure size 432x288 with 1 Axes>"
      ]
     },
     "metadata": {
      "needs_background": "light"
     },
     "output_type": "display_data"
    }
   ],
   "source": [
    "ax = sns.boxplot(x='Result', y='Time_Delta', data=df)\n",
    "ax.set(xlabel='Result', ylabel='Time_Delta')"
   ]
  },
  {
   "cell_type": "markdown",
   "metadata": {},
   "source": [
    "## Balancing the Dataset"
   ]
  },
  {
   "cell_type": "code",
   "execution_count": 636,
   "metadata": {},
   "outputs": [
    {
     "data": {
      "text/html": [
       "<div>\n",
       "<style scoped>\n",
       "    .dataframe tbody tr th:only-of-type {\n",
       "        vertical-align: middle;\n",
       "    }\n",
       "\n",
       "    .dataframe tbody tr th {\n",
       "        vertical-align: top;\n",
       "    }\n",
       "\n",
       "    .dataframe thead th {\n",
       "        text-align: right;\n",
       "    }\n",
       "</style>\n",
       "<table border=\"1\" class=\"dataframe\">\n",
       "  <thead>\n",
       "    <tr style=\"text-align: right;\">\n",
       "      <th></th>\n",
       "      <th>Report_date</th>\n",
       "      <th>Date_of_onset</th>\n",
       "      <th>Age</th>\n",
       "      <th>Result</th>\n",
       "      <th>HKer_or_not</th>\n",
       "      <th>Case_classification</th>\n",
       "      <th>Confirmed/probable</th>\n",
       "      <th>Time_Delta</th>\n",
       "      <th>F</th>\n",
       "      <th>M</th>\n",
       "    </tr>\n",
       "  </thead>\n",
       "  <tbody>\n",
       "    <tr>\n",
       "      <th>0</th>\n",
       "      <td>2020-01-23</td>\n",
       "      <td>2020-01-21</td>\n",
       "      <td>39</td>\n",
       "      <td>1</td>\n",
       "      <td>0</td>\n",
       "      <td>0</td>\n",
       "      <td>Confirmed</td>\n",
       "      <td>2</td>\n",
       "      <td>0</td>\n",
       "      <td>1</td>\n",
       "    </tr>\n",
       "    <tr>\n",
       "      <th>1</th>\n",
       "      <td>2020-01-23</td>\n",
       "      <td>2020-01-18</td>\n",
       "      <td>56</td>\n",
       "      <td>1</td>\n",
       "      <td>1</td>\n",
       "      <td>0</td>\n",
       "      <td>Confirmed</td>\n",
       "      <td>5</td>\n",
       "      <td>0</td>\n",
       "      <td>1</td>\n",
       "    </tr>\n",
       "    <tr>\n",
       "      <th>2</th>\n",
       "      <td>2020-01-24</td>\n",
       "      <td>2020-01-20</td>\n",
       "      <td>62</td>\n",
       "      <td>1</td>\n",
       "      <td>0</td>\n",
       "      <td>0</td>\n",
       "      <td>Confirmed</td>\n",
       "      <td>4</td>\n",
       "      <td>1</td>\n",
       "      <td>0</td>\n",
       "    </tr>\n",
       "    <tr>\n",
       "      <th>3</th>\n",
       "      <td>2020-01-24</td>\n",
       "      <td>2020-01-23</td>\n",
       "      <td>62</td>\n",
       "      <td>1</td>\n",
       "      <td>0</td>\n",
       "      <td>0</td>\n",
       "      <td>Confirmed</td>\n",
       "      <td>1</td>\n",
       "      <td>1</td>\n",
       "      <td>0</td>\n",
       "    </tr>\n",
       "    <tr>\n",
       "      <th>4</th>\n",
       "      <td>2020-01-24</td>\n",
       "      <td>2020-01-23</td>\n",
       "      <td>63</td>\n",
       "      <td>1</td>\n",
       "      <td>0</td>\n",
       "      <td>0</td>\n",
       "      <td>Confirmed</td>\n",
       "      <td>1</td>\n",
       "      <td>0</td>\n",
       "      <td>1</td>\n",
       "    </tr>\n",
       "  </tbody>\n",
       "</table>\n",
       "</div>"
      ],
      "text/plain": [
       "  Report_date Date_of_onset  Age  Result  HKer_or_not  Case_classification  \\\n",
       "0  2020-01-23    2020-01-21   39       1            0                    0   \n",
       "1  2020-01-23    2020-01-18   56       1            1                    0   \n",
       "2  2020-01-24    2020-01-20   62       1            0                    0   \n",
       "3  2020-01-24    2020-01-23   62       1            0                    0   \n",
       "4  2020-01-24    2020-01-23   63       1            0                    0   \n",
       "\n",
       "  Confirmed/probable  Time_Delta  F  M  \n",
       "0          Confirmed           2  0  1  \n",
       "1          Confirmed           5  0  1  \n",
       "2          Confirmed           4  1  0  \n",
       "3          Confirmed           1  1  0  \n",
       "4          Confirmed           1  0  1  "
      ]
     },
     "execution_count": 636,
     "metadata": {},
     "output_type": "execute_result"
    }
   ],
   "source": [
    "# Get the dummy variable\n",
    "df = pd.concat([df,pd.get_dummies(df['Gender'])], axis=1)\n",
    "df.drop(['Gender'], axis=1, inplace=True)\n",
    "df.head()"
   ]
  },
  {
   "cell_type": "code",
   "execution_count": 637,
   "metadata": {},
   "outputs": [
    {
     "data": {
      "text/plain": [
       "array(['Report_date', 'Date_of_onset', 'Age', 'Result', 'HKer_or_not',\n",
       "       'Case_classification', 'Confirmed/probable', 'Time_Delta', 'F',\n",
       "       'M'], dtype=object)"
      ]
     },
     "execution_count": 637,
     "metadata": {},
     "output_type": "execute_result"
    }
   ],
   "source": [
    "df.columns.values"
   ]
  },
  {
   "cell_type": "code",
   "execution_count": 638,
   "metadata": {},
   "outputs": [],
   "source": [
    "from imblearn.under_sampling import RandomUnderSampler\n",
    "import imblearn\n",
    "\n",
    "x = df[['Age','HKer_or_not','Case_classification','Time_Delta','F','M']]\n",
    "y = df['Result']\n",
    "\n",
    "#Use random under sampling (RUS) method such that the resulting numbers of each 'Result' class are equal.\n",
    "#RUS randomly removes samples from the majority class (in this case 'Result' = 1(Alive)) such that the number present\n",
    "#equal that of the minority class 'Result' = 0(Death) such that they are now equal.\n",
    "RUS = RandomUnderSampler()\n",
    "x_resampled, y_resampled = RUS.fit_resample(x, y)"
   ]
  },
  {
   "cell_type": "code",
   "execution_count": 639,
   "metadata": {},
   "outputs": [
    {
     "name": "stdout",
     "output_type": "stream",
     "text": [
      "1    61\n",
      "0    61\n",
      "Name: Result, dtype: int64\n",
      "   Age  HKer_or_not  Case_classification  Time_Delta  F  M\n",
      "0   39            1                    0           2  0  1\n",
      "1   75            1                    0           5  1  0\n",
      "2   78            1                    1          31  1  0\n",
      "3   72            1                    1          31  0  1\n",
      "4   55            1                    0          11  0  1\n"
     ]
    }
   ],
   "source": [
    "print(y_resampled.value_counts())\n",
    "print(x_resampled[0:5])"
   ]
  },
  {
   "cell_type": "markdown",
   "metadata": {},
   "source": [
    "## Modeling"
   ]
  },
  {
   "cell_type": "code",
   "execution_count": 640,
   "metadata": {},
   "outputs": [
    {
     "data": {
      "text/plain": [
       "array([[-1.08233049,  0.        , -3.34664011, -0.49145924, -1.06787213,\n",
       "         1.06787213],\n",
       "       [ 0.53839761,  0.        , -3.34664011, -0.42906796,  0.93644171,\n",
       "        -0.93644171]])"
      ]
     },
     "execution_count": 640,
     "metadata": {},
     "output_type": "execute_result"
    }
   ],
   "source": [
    "from sklearn.model_selection import train_test_split\n",
    "from sklearn import preprocessing\n",
    "\n",
    "x_prp = preprocessing.StandardScaler().fit(x_resampled).transform(x_resampled)\n",
    "x_prp[0:2]"
   ]
  },
  {
   "cell_type": "code",
   "execution_count": 641,
   "metadata": {},
   "outputs": [
    {
     "name": "stdout",
     "output_type": "stream",
     "text": [
      "Train set: (2181, 6) (2181,)\n",
      "Test set: (546, 6) (546,)\n"
     ]
    }
   ],
   "source": [
    "from sklearn.model_selection import train_test_split\n",
    "X_train, X_test, y_train, y_test = train_test_split( x, y, test_size=0.2, random_state=4)\n",
    "print ('Train set:', X_train.shape,  y_train.shape)\n",
    "print ('Test set:', X_test.shape,  y_test.shape)"
   ]
  },
  {
   "cell_type": "markdown",
   "metadata": {},
   "source": [
    "### Logistic Regression"
   ]
  },
  {
   "cell_type": "code",
   "execution_count": 642,
   "metadata": {},
   "outputs": [
    {
     "data": {
      "text/plain": [
       "array([0, 1, 1, 1, 1, 1, 1, 1, 1, 1, 1, 1, 1, 1, 1, 1, 1, 1, 1, 1, 1, 1,\n",
       "       1, 1, 1, 1, 1, 1, 1, 1, 1, 1, 1, 1, 1, 1, 1, 1, 1, 1, 1, 1, 1, 1,\n",
       "       1, 1, 1, 1, 1, 1, 1, 1, 1, 1, 1, 1, 1, 1, 1, 1, 1, 1, 1, 1, 1, 1,\n",
       "       1, 1, 1, 1, 1, 1, 1, 1, 1, 1, 1, 1, 1, 1, 1, 1, 1, 1, 1, 1, 1, 1,\n",
       "       1, 1, 1, 1, 1, 1, 1, 1, 1, 1, 1, 1, 1, 1, 1, 1, 1, 1, 1, 1, 1, 1,\n",
       "       1, 1, 1, 1, 1, 1, 1, 1, 1, 1, 1, 1, 1, 1, 1, 1, 1, 1, 1, 1, 1, 1,\n",
       "       1, 1, 1, 1, 1, 1, 1, 1, 1, 1, 1, 1, 1, 1, 1, 1, 1, 1, 1, 1, 1, 1,\n",
       "       1, 1, 1, 1, 1, 1, 1, 1, 1, 1, 1, 1, 1, 1, 1, 1, 1, 1, 1, 1, 1, 1,\n",
       "       1, 1, 1, 1, 1, 1, 1, 1, 1, 1, 1, 1, 1, 1, 1, 1, 1, 1, 1, 1, 1, 1,\n",
       "       1, 1, 1, 1, 1, 1, 1, 1, 1, 1, 1, 1, 1, 1, 1, 1, 1, 1, 1, 1, 1, 1,\n",
       "       1, 1, 1, 1, 1, 1, 1, 1, 1, 1, 1, 1, 1, 1, 1, 1, 1, 1, 1, 1, 1, 1,\n",
       "       1, 1, 1, 1, 1, 1, 1, 1, 1, 1, 1, 1, 1, 1, 1, 1, 1, 1, 1, 1, 1, 1,\n",
       "       1, 1, 1, 1, 1, 1, 1, 1, 1, 1, 1, 1, 1, 1, 1, 1, 1, 1, 1, 1, 1, 1,\n",
       "       1, 1, 1, 1, 1, 1, 1, 1, 1, 1, 1, 1, 1, 1, 1, 1, 1, 1, 1, 1, 1, 1,\n",
       "       1, 1, 1, 1, 1, 1, 1, 1, 1, 1, 1, 1, 1, 1, 1, 1, 1, 1, 1, 1, 1, 1,\n",
       "       1, 1, 1, 1, 1, 1, 1, 1, 1, 1, 1, 1, 1, 1, 1, 1, 1, 1, 1, 1, 1, 1,\n",
       "       1, 1, 1, 1, 1, 1, 1, 1, 1, 1, 1, 1, 1, 1, 1, 1, 1, 1, 1, 1, 1, 1,\n",
       "       1, 1, 1, 1, 1, 1, 1, 1, 1, 1, 1, 1, 1, 1, 1, 1, 1, 1, 1, 1, 1, 1,\n",
       "       1, 1, 1, 1, 1, 1, 1, 1, 1, 1, 1, 1, 1, 1, 1, 1, 1, 1, 1, 1, 1, 1,\n",
       "       1, 1, 1, 1, 1, 1, 1, 1, 1, 1, 1, 1, 1, 1, 1, 1, 1, 1, 1, 1, 1, 1,\n",
       "       1, 1, 1, 1, 1, 1, 1, 1, 1, 1, 1, 1, 1, 1, 1, 1, 1, 1, 1, 1, 1, 1,\n",
       "       1, 1, 1, 1, 1, 1, 1, 1, 1, 1, 1, 1, 1, 1, 1, 1, 1, 1, 1, 1, 1, 1,\n",
       "       1, 1, 1, 1, 1, 1, 1, 1, 1, 1, 1, 1, 1, 1, 1, 1, 1, 1, 1, 1, 1, 1,\n",
       "       1, 1, 1, 1, 1, 1, 1, 1, 1, 1, 1, 1, 1, 1, 1, 1, 1, 1, 1, 1, 1, 1,\n",
       "       1, 1, 1, 1, 1, 1, 1, 1, 1, 1, 1, 1, 1, 1, 1, 1, 1, 1], dtype=int64)"
      ]
     },
     "execution_count": 642,
     "metadata": {},
     "output_type": "execute_result"
    }
   ],
   "source": [
    "from sklearn.linear_model import LogisticRegression\n",
    "from sklearn.metrics import confusion_matrix\n",
    "\n",
    "LR = LogisticRegression(C=0.05).fit(X_train,y_train)\n",
    "yhat = LR.predict(X_test)\n",
    "yhat"
   ]
  },
  {
   "cell_type": "code",
   "execution_count": 643,
   "metadata": {},
   "outputs": [
    {
     "data": {
      "text/plain": [
       "array([[5.96596244e-01, 4.03403756e-01],\n",
       "       [5.31598509e-04, 9.99468401e-01],\n",
       "       [3.04300855e-03, 9.96956991e-01],\n",
       "       ...,\n",
       "       [1.22528795e-04, 9.99877471e-01],\n",
       "       [6.40099916e-05, 9.99935990e-01],\n",
       "       [2.50219308e-03, 9.97497807e-01]])"
      ]
     },
     "execution_count": 643,
     "metadata": {},
     "output_type": "execute_result"
    }
   ],
   "source": [
    "yhat_prob = LR.predict_proba(X_test)\n",
    "yhat_prob"
   ]
  },
  {
   "cell_type": "code",
   "execution_count": 644,
   "metadata": {},
   "outputs": [
    {
     "name": "stdout",
     "output_type": "stream",
     "text": [
      "The jaccard score is:  0.9779816513761468\n",
      "The F-1 score is:  0.9687251523986219\n"
     ]
    }
   ],
   "source": [
    "from sklearn.metrics import jaccard_score\n",
    "from sklearn.metrics import f1_score\n",
    "from sklearn.metrics import log_loss\n",
    "\n",
    "jaccard_score_LR = jaccard_score(y_test, yhat)\n",
    "f1_score_LR = f1_score(y_test, yhat, average='weighted')\n",
    "\n",
    "print('The jaccard score is: ',jaccard_score_LR)\n",
    "print('The F-1 score is: ',f1_score_LR)"
   ]
  },
  {
   "cell_type": "markdown",
   "metadata": {},
   "source": [
    "### Decision Tree"
   ]
  },
  {
   "cell_type": "code",
   "execution_count": 645,
   "metadata": {},
   "outputs": [
    {
     "data": {
      "text/plain": [
       "array([1, 1, 1, 1, 1, 1, 1, 1, 1, 1, 1, 1, 1, 1, 1, 1, 1, 1, 1, 1, 1, 1,\n",
       "       1, 1, 1, 1, 1, 1, 1, 1, 1, 1, 1, 1, 1, 1, 1, 1, 1, 1, 1, 1, 1, 1,\n",
       "       1, 1, 1, 1, 0, 1, 1, 1, 1, 1, 1, 1, 1, 1, 1, 1, 1, 1, 1, 1, 1, 1,\n",
       "       1, 1, 1, 1, 1, 1, 1, 1, 1, 1, 1, 1, 1, 1, 1, 1, 1, 1, 1, 1, 1, 1,\n",
       "       1, 1, 1, 1, 1, 1, 1, 1, 1, 1, 1, 1, 1, 1, 1, 1, 1, 1, 1, 1, 1, 1,\n",
       "       1, 1, 1, 1, 1, 1, 1, 1, 1, 1, 1, 1, 1, 1, 1, 1, 1, 1, 1, 1, 1, 1,\n",
       "       1, 1, 1, 1, 1, 1, 1, 1, 1, 1, 1, 1, 1, 1, 1, 1, 1, 1, 1, 1, 1, 1,\n",
       "       1, 1, 1, 1, 1, 1, 1, 1, 1, 1, 1, 1, 1, 1, 1, 1, 1, 1, 1, 1, 1, 1,\n",
       "       1, 1, 1, 1, 1, 1, 1, 1, 1, 1, 1, 1, 1, 1, 1, 1, 1, 1, 1, 1, 1, 1,\n",
       "       1, 1, 0, 1, 1, 1, 1, 1, 1, 1, 1, 1, 1, 1, 1, 1, 1, 1, 1, 1, 1, 1,\n",
       "       1, 1, 1, 1, 1, 1, 1, 1, 1, 1, 1, 1, 1, 1, 1, 1, 1, 1, 1, 1, 1, 1,\n",
       "       1, 1, 1, 1, 1, 1, 1, 1, 1, 1, 1, 1, 0, 1, 1, 1, 1, 1, 1, 1, 1, 1,\n",
       "       1, 1, 1, 1, 1, 1, 1, 1, 1, 1, 1, 1, 1, 1, 1, 1, 1, 1, 1, 1, 1, 1,\n",
       "       1, 1, 1, 1, 1, 1, 0, 1, 1, 1, 1, 1, 1, 1, 1, 1, 1, 1, 1, 1, 1, 1,\n",
       "       1, 1, 1, 1, 1, 1, 1, 1, 1, 1, 1, 1, 1, 1, 1, 1, 1, 1, 1, 1, 1, 1,\n",
       "       1, 1, 1, 1, 1, 1, 1, 1, 1, 1, 1, 1, 1, 1, 1, 1, 1, 1, 1, 1, 1, 1,\n",
       "       1, 1, 1, 1, 1, 1, 1, 1, 1, 1, 1, 1, 1, 1, 1, 1, 1, 1, 1, 1, 1, 1,\n",
       "       1, 1, 1, 1, 1, 1, 1, 1, 1, 1, 1, 1, 1, 1, 1, 1, 1, 1, 1, 1, 1, 1,\n",
       "       1, 1, 1, 1, 1, 1, 1, 1, 1, 1, 1, 1, 1, 1, 1, 1, 1, 1, 1, 1, 1, 1,\n",
       "       1, 1, 1, 1, 1, 1, 1, 1, 1, 1, 1, 1, 1, 1, 1, 1, 1, 1, 1, 1, 1, 1,\n",
       "       1, 1, 1, 1, 1, 1, 1, 1, 1, 1, 1, 1, 1, 1, 1, 1, 1, 1, 1, 1, 1, 1,\n",
       "       1, 1, 1, 1, 1, 1, 1, 1, 1, 1, 0, 1, 1, 1, 1, 1, 1, 1, 1, 1, 1, 1,\n",
       "       1, 1, 1, 1, 1, 1, 1, 1, 1, 1, 1, 1, 1, 1, 1, 1, 1, 1, 1, 0, 1, 1,\n",
       "       1, 1, 1, 1, 1, 1, 1, 1, 1, 1, 1, 1, 1, 1, 1, 1, 1, 1, 1, 1, 1, 1,\n",
       "       1, 1, 1, 1, 1, 1, 1, 1, 1, 1, 1, 1, 1, 1, 1, 1, 1, 1], dtype=int64)"
      ]
     },
     "execution_count": 645,
     "metadata": {},
     "output_type": "execute_result"
    }
   ],
   "source": [
    "from sklearn.datasets import load_iris\n",
    "from sklearn import tree\n",
    "\n",
    "DecisionTree = tree.DecisionTreeClassifier(max_depth = 6)\n",
    "Decision_Tree = DecisionTree.fit(X_train, y_train)\n",
    "\n",
    "yhat_DT = Decision_Tree.predict(X_test) #prediction\n",
    "yhat_DT\n"
   ]
  },
  {
   "cell_type": "code",
   "execution_count": 646,
   "metadata": {},
   "outputs": [
    {
     "name": "stdout",
     "output_type": "stream",
     "text": [
      "DecisionTrees's Accuracy:  0.9652014652014652\n",
      "The jaccard score is:  0.9652014652014652\n",
      "The F-1 score is:  0.9589047175254072\n"
     ]
    }
   ],
   "source": [
    "from sklearn import metrics\n",
    "\n",
    "print(\"DecisionTrees's Accuracy: \", metrics.accuracy_score(y_test, yhat_DT))\n",
    "jaccard_score_DT = jaccard_score(y_test,yhat_DT)\n",
    "f1_score_DT = f1_score(y_test, yhat_DT, average = 'weighted')\n",
    "print('The jaccard score is: ',jaccard_score_DT)\n",
    "print('The F-1 score is: ',f1_score_DT)"
   ]
  },
  {
   "cell_type": "markdown",
   "metadata": {},
   "source": [
    "### K Nearest Neighbour Method"
   ]
  },
  {
   "cell_type": "code",
   "execution_count": 647,
   "metadata": {},
   "outputs": [
    {
     "name": "stdout",
     "output_type": "stream",
     "text": [
      "Loading: 100.0%\r"
     ]
    },
    {
     "data": {
      "text/plain": [
       "array([0.        , 0.        , 0.        , 0.        , 0.96703297,\n",
       "       0.96886447, 0.96703297, 0.96703297, 0.96703297, 0.96703297,\n",
       "       0.96703297, 0.96520147, 0.97069597, 0.97069597])"
      ]
     },
     "execution_count": 647,
     "metadata": {},
     "output_type": "execute_result"
    }
   ],
   "source": [
    "# finding a good K for the KNN model\n",
    "import numpy as np\n",
    "from sklearn.neighbors import KNeighborsClassifier\n",
    "from sklearn import metrics\n",
    "\n",
    "K = 15\n",
    "mean_acc = np.zeros((K-1))\n",
    "std_acc = np.zeros((K-1))\n",
    "\n",
    "#We create Ks-15 classifiers, and test the accuracy of each classifer for each value of n neighbours.\n",
    "#We print the mean accuracy for all classifiers and save the one with the best accuracy.\n",
    "numTestsPerformed = 0\n",
    "for n in range(5,K):\n",
    "    neigh = KNeighborsClassifier(n_neighbors=n).fit(X_train, y_train)\n",
    "    yhat = neigh.predict(X_test)\n",
    "    mean_acc[n-1] = metrics.accuracy_score(y_test, yhat)\n",
    "    std_acc[n-1] = np.std(yhat==y_test)/np.sqrt(yhat.shape[0])\n",
    "    \n",
    "    #Creating and testing numerous classifiers takes time, a loading bar is therefore created and displayed\n",
    "    numTestsPerformed = numTestsPerformed + 1\n",
    "    print(\"Loading: \" + str(round(((numTestsPerformed / 10) * 100), 2)) + \"%\", end=\"\\r\")\n",
    "mean_acc"
   ]
  },
  {
   "cell_type": "code",
   "execution_count": 648,
   "metadata": {},
   "outputs": [
    {
     "data": {
      "image/png": "[encoded data removed]",
      "text/plain": [
       "<Figure size 432x288 with 1 Axes>"
      ]
     },
     "metadata": {
      "needs_background": "light"
     },
     "output_type": "display_data"
    },
    {
     "name": "stdout",
     "output_type": "stream",
     "text": [
      "The best general accuracy was at 0.9706959706959707 with k= 13\n"
     ]
    }
   ],
   "source": [
    "# Visualize k-value over accuracy\n",
    "plt.plot(range(5,K),mean_acc[4:25])\n",
    "plt.fill_between(range(5,K),mean_acc[4:15] - 1 * std_acc[4:15],mean_acc[4:15] + 1 * std_acc[4:15], alpha=0.10)\n",
    "\n",
    "#Plotting line graph displaying the accuracy of the classifier with each value K = n neighbours.\n",
    "plt.legend(('Accuracy', '+/- 3xstd'))\n",
    "plt.ylabel('Accuracy')\n",
    "plt.xlabel('Number of Neighbors (K)')\n",
    "plt.tight_layout()\n",
    "plt.show()\n",
    "\n",
    "#Print classifier with the best accuracy.\n",
    "print( \"The best general accuracy was at\", mean_acc.max(), \"with k=\", mean_acc.argmax()+1)"
   ]
  },
  {
   "cell_type": "code",
   "execution_count": 649,
   "metadata": {},
   "outputs": [
    {
     "name": "stdout",
     "output_type": "stream",
     "text": [
      "Accuracy Score:  0.9761904761904762\n",
      "Jaccard Score:  0.9761904761904762\n",
      "F1 Score:  0.9644291451520368\n"
     ]
    }
   ],
   "source": [
    "# build final KNN model\n",
    "k = 24\n",
    "KNN = KNeighborsClassifier(n_neighbors = k).fit(X_train,y_train)\n",
    "y_hat_KNN = KNN.predict(X_test)\n",
    "\n",
    "# full evalution\n",
    "from sklearn.metrics import jaccard_score\n",
    "from sklearn.metrics import f1_score\n",
    "\n",
    "#Printing off evaluation metrics for K-NN classifier\n",
    "acc_KNN = metrics.accuracy_score(y_test, y_hat_KNN)\n",
    "jc_KNN = jaccard_score(y_test, y_hat_KNN)\n",
    "fs_KNN = f1_score(y_test, y_hat_KNN, average='weighted')\n",
    "print(\"Accuracy Score: \", acc_KNN)\n",
    "print(\"Jaccard Score: \", jc_KNN)\n",
    "print(\"F1 Score: \", fs_KNN)"
   ]
  },
  {
   "cell_type": "code",
   "execution_count": 650,
   "metadata": {},
   "outputs": [
    {
     "data": {
      "text/html": [
       "<div>\n",
       "<style scoped>\n",
       "    .dataframe tbody tr th:only-of-type {\n",
       "        vertical-align: middle;\n",
       "    }\n",
       "\n",
       "    .dataframe tbody tr th {\n",
       "        vertical-align: top;\n",
       "    }\n",
       "\n",
       "    .dataframe thead th {\n",
       "        text-align: right;\n",
       "    }\n",
       "</style>\n",
       "<table border=\"1\" class=\"dataframe\">\n",
       "  <thead>\n",
       "    <tr style=\"text-align: right;\">\n",
       "      <th></th>\n",
       "      <th>Model</th>\n",
       "      <th>Jaccard</th>\n",
       "      <th>F1_Score</th>\n",
       "    </tr>\n",
       "  </thead>\n",
       "  <tbody>\n",
       "    <tr>\n",
       "      <th>0</th>\n",
       "      <td>KNN</td>\n",
       "      <td>0.976190</td>\n",
       "      <td>0.964429</td>\n",
       "    </tr>\n",
       "    <tr>\n",
       "      <th>1</th>\n",
       "      <td>DT</td>\n",
       "      <td>0.965201</td>\n",
       "      <td>0.958905</td>\n",
       "    </tr>\n",
       "    <tr>\n",
       "      <th>2</th>\n",
       "      <td>LR</td>\n",
       "      <td>0.977982</td>\n",
       "      <td>0.968725</td>\n",
       "    </tr>\n",
       "  </tbody>\n",
       "</table>\n",
       "</div>"
      ],
      "text/plain": [
       "  Model   Jaccard  F1_Score\n",
       "0   KNN  0.976190  0.964429\n",
       "1    DT  0.965201  0.958905\n",
       "2    LR  0.977982  0.968725"
      ]
     },
     "execution_count": 650,
     "metadata": {},
     "output_type": "execute_result"
    }
   ],
   "source": [
    "method_list = ['KNN','DT','LR']\n",
    "jaccard = [jc_KNN,\n",
    "          jaccard_score_DT,\n",
    "          jaccard_score_LR]\n",
    "\n",
    "f1_score = [fs_KNN, f1_score_DT, f1_score_LR]\n",
    "df_result = pd.DataFrame({'Model': method_list, 'Jaccard' : jaccard,'F1_Score':f1_score})\n",
    "df_result"
   ]
  },
  {
   "cell_type": "code",
   "execution_count": null,
   "metadata": {},
   "outputs": [],
   "source": []
  },
  {
   "cell_type": "code",
   "execution_count": null,
   "metadata": {},
   "outputs": [],
   "source": []
  }
 ],
 "metadata": {
  "kernelspec": {
   "display_name": "Python 3",
   "language": "python",
   "name": "python3"
  },
  "language_info": {
   "codemirror_mode": {
    "name": "ipython",
    "version": 3
   },
   "file_extension": ".py",
   "mimetype": "text/x-python",
   "name": "python",
   "nbconvert_exporter": "python",
   "pygments_lexer": "ipython3",
   "version": "3.7.6"
  }
 },
 "nbformat": 4,
 "nbformat_minor": 4
}
